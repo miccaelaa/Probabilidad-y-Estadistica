{
 "cells": [
  {
   "cell_type": "markdown",
   "metadata": {},
   "source": [
    "!['Imagen de una galaxia'](https://storage.googleapis.com/kaggle-datasets-images/391127/754362/716e456635d5f732fe04c7519ff6dfa5/dataset-cover.jpg?t=2019-10-22-02-56-07 \"Title\")"
   ]
  },
  {
   "cell_type": "markdown",
   "metadata": {
    "id": "G5rv-GvWIUBV"
   },
   "source": [
    "# Introducción a Probabilidad y Estadística para Data Science\n",
    "# **Clase 3- Ejercicios** 📝"
   ]
  },
  {
   "cell_type": "markdown",
   "metadata": {
    "id": "spLvt1EERLoX"
   },
   "source": [
    "El archivo **stars.csv** contiene información de 240 estrellas y los siguientes datos sobre ellas:\n",
    "* Absolute Temperature (in K)\n",
    "* Relative Luminosity (L/Lo)\n",
    "* Relative Radius (R/Ro)\n",
    "* Absolute Magnitude (Mv)\n",
    "* Star Color (white,Red,Blue,Yellow,yellow-orange etc)\n",
    "* Spectral Class (O,B,A,F,G,K,,M)\n",
    "* Star Type (Red Dwarf, Brown Dwarf, White Dwarf, Main Sequence , SuperGiants, HyperGiants)\n",
    "* Lo = 3.828 x 10^26 Watts (Avg Luminosity of Sun)\n",
    "* Ro = 6.9551 x 10^8 m (Avg Radius of Sun)\n",
    "\n",
    "Elijan al menos dos columnas para realizar un análisis similar al visto en clase.\n",
    "\n"
   ]
  },
  {
   "cell_type": "code",
   "execution_count": 1,
   "metadata": {},
   "outputs": [],
   "source": [
    "import matplotlib.pyplot as plt\n",
    "import pandas as pd \n",
    "import seaborn as sns"
   ]
  },
  {
   "cell_type": "code",
   "execution_count": 2,
   "metadata": {},
   "outputs": [],
   "source": [
    "pd.set_option('display.max_rows', None) \n",
    "pd.set_option('display.max_columns', None)"
   ]
  },
  {
   "cell_type": "markdown",
   "metadata": {},
   "source": [
    "# 1. Vistazo inicial de los datos"
   ]
  },
  {
   "cell_type": "code",
   "execution_count": 3,
   "metadata": {},
   "outputs": [],
   "source": [
    "df = pd.read_csv('stars.csv')"
   ]
  },
  {
   "cell_type": "code",
   "execution_count": 4,
   "metadata": {},
   "outputs": [
    {
     "data": {
      "text/html": [
       "<div>\n",
       "<style scoped>\n",
       "    .dataframe tbody tr th:only-of-type {\n",
       "        vertical-align: middle;\n",
       "    }\n",
       "\n",
       "    .dataframe tbody tr th {\n",
       "        vertical-align: top;\n",
       "    }\n",
       "\n",
       "    .dataframe thead th {\n",
       "        text-align: right;\n",
       "    }\n",
       "</style>\n",
       "<table border=\"1\" class=\"dataframe\">\n",
       "  <thead>\n",
       "    <tr style=\"text-align: right;\">\n",
       "      <th></th>\n",
       "      <th>Temperature (K)</th>\n",
       "      <th>Luminosity(L/Lo)</th>\n",
       "      <th>Radius(R/Ro)</th>\n",
       "      <th>Absolute magnitude(Mv)</th>\n",
       "      <th>Star type</th>\n",
       "      <th>Star color</th>\n",
       "      <th>Spectral Class</th>\n",
       "    </tr>\n",
       "  </thead>\n",
       "  <tbody>\n",
       "    <tr>\n",
       "      <th>0</th>\n",
       "      <td>3068.0</td>\n",
       "      <td>0.002400</td>\n",
       "      <td>0.1700</td>\n",
       "      <td>16.12</td>\n",
       "      <td>0.0</td>\n",
       "      <td>Red</td>\n",
       "      <td>M</td>\n",
       "    </tr>\n",
       "    <tr>\n",
       "      <th>1</th>\n",
       "      <td>3042.0</td>\n",
       "      <td>0.000500</td>\n",
       "      <td>0.1542</td>\n",
       "      <td>16.60</td>\n",
       "      <td>0.0</td>\n",
       "      <td>Red</td>\n",
       "      <td>M</td>\n",
       "    </tr>\n",
       "    <tr>\n",
       "      <th>2</th>\n",
       "      <td>2600.0</td>\n",
       "      <td>0.000300</td>\n",
       "      <td>0.1020</td>\n",
       "      <td>18.70</td>\n",
       "      <td>0.0</td>\n",
       "      <td>Red</td>\n",
       "      <td>M</td>\n",
       "    </tr>\n",
       "    <tr>\n",
       "      <th>3</th>\n",
       "      <td>2800.0</td>\n",
       "      <td>0.000200</td>\n",
       "      <td>0.1600</td>\n",
       "      <td>16.65</td>\n",
       "      <td>0.0</td>\n",
       "      <td>Red</td>\n",
       "      <td>NaN</td>\n",
       "    </tr>\n",
       "    <tr>\n",
       "      <th>4</th>\n",
       "      <td>1939.0</td>\n",
       "      <td>0.000138</td>\n",
       "      <td>0.1030</td>\n",
       "      <td>20.06</td>\n",
       "      <td>0.0</td>\n",
       "      <td>Red</td>\n",
       "      <td>M</td>\n",
       "    </tr>\n",
       "    <tr>\n",
       "      <th>5</th>\n",
       "      <td>2840.0</td>\n",
       "      <td>0.000650</td>\n",
       "      <td>0.1100</td>\n",
       "      <td>NaN</td>\n",
       "      <td>0.0</td>\n",
       "      <td>Red</td>\n",
       "      <td>M</td>\n",
       "    </tr>\n",
       "    <tr>\n",
       "      <th>6</th>\n",
       "      <td>2637.0</td>\n",
       "      <td>0.000730</td>\n",
       "      <td>0.1270</td>\n",
       "      <td>17.22</td>\n",
       "      <td>0.0</td>\n",
       "      <td>Red</td>\n",
       "      <td>M</td>\n",
       "    </tr>\n",
       "    <tr>\n",
       "      <th>7</th>\n",
       "      <td>2600.0</td>\n",
       "      <td>0.000400</td>\n",
       "      <td>0.0960</td>\n",
       "      <td>NaN</td>\n",
       "      <td>0.0</td>\n",
       "      <td>Red</td>\n",
       "      <td>M</td>\n",
       "    </tr>\n",
       "    <tr>\n",
       "      <th>8</th>\n",
       "      <td>2650.0</td>\n",
       "      <td>0.000690</td>\n",
       "      <td>0.1100</td>\n",
       "      <td>17.45</td>\n",
       "      <td>0.0</td>\n",
       "      <td>Red</td>\n",
       "      <td>M</td>\n",
       "    </tr>\n",
       "    <tr>\n",
       "      <th>9</th>\n",
       "      <td>2700.0</td>\n",
       "      <td>0.000180</td>\n",
       "      <td>0.1300</td>\n",
       "      <td>16.05</td>\n",
       "      <td>0.0</td>\n",
       "      <td>Red</td>\n",
       "      <td>M</td>\n",
       "    </tr>\n",
       "  </tbody>\n",
       "</table>\n",
       "</div>"
      ],
      "text/plain": [
       "   Temperature (K)  Luminosity(L/Lo)  Radius(R/Ro)  Absolute magnitude(Mv)  \\\n",
       "0           3068.0          0.002400        0.1700                   16.12   \n",
       "1           3042.0          0.000500        0.1542                   16.60   \n",
       "2           2600.0          0.000300        0.1020                   18.70   \n",
       "3           2800.0          0.000200        0.1600                   16.65   \n",
       "4           1939.0          0.000138        0.1030                   20.06   \n",
       "5           2840.0          0.000650        0.1100                     NaN   \n",
       "6           2637.0          0.000730        0.1270                   17.22   \n",
       "7           2600.0          0.000400        0.0960                     NaN   \n",
       "8           2650.0          0.000690        0.1100                   17.45   \n",
       "9           2700.0          0.000180        0.1300                   16.05   \n",
       "\n",
       "   Star type Star color Spectral Class  \n",
       "0        0.0        Red              M  \n",
       "1        0.0        Red              M  \n",
       "2        0.0        Red              M  \n",
       "3        0.0        Red            NaN  \n",
       "4        0.0        Red              M  \n",
       "5        0.0        Red              M  \n",
       "6        0.0        Red              M  \n",
       "7        0.0        Red              M  \n",
       "8        0.0        Red              M  \n",
       "9        0.0        Red              M  "
      ]
     },
     "execution_count": 4,
     "metadata": {},
     "output_type": "execute_result"
    }
   ],
   "source": [
    "df.head(10)"
   ]
  },
  {
   "cell_type": "code",
   "execution_count": 5,
   "metadata": {},
   "outputs": [
    {
     "data": {
      "text/html": [
       "<div>\n",
       "<style scoped>\n",
       "    .dataframe tbody tr th:only-of-type {\n",
       "        vertical-align: middle;\n",
       "    }\n",
       "\n",
       "    .dataframe tbody tr th {\n",
       "        vertical-align: top;\n",
       "    }\n",
       "\n",
       "    .dataframe thead th {\n",
       "        text-align: right;\n",
       "    }\n",
       "</style>\n",
       "<table border=\"1\" class=\"dataframe\">\n",
       "  <thead>\n",
       "    <tr style=\"text-align: right;\">\n",
       "      <th></th>\n",
       "      <th>Temperature (K)</th>\n",
       "      <th>Luminosity(L/Lo)</th>\n",
       "      <th>Radius(R/Ro)</th>\n",
       "      <th>Absolute magnitude(Mv)</th>\n",
       "      <th>Star type</th>\n",
       "    </tr>\n",
       "  </thead>\n",
       "  <tbody>\n",
       "    <tr>\n",
       "      <th>count</th>\n",
       "      <td>236.000000</td>\n",
       "      <td>238.000000</td>\n",
       "      <td>238.000000</td>\n",
       "      <td>237.000000</td>\n",
       "      <td>239.000000</td>\n",
       "    </tr>\n",
       "    <tr>\n",
       "      <th>mean</th>\n",
       "      <td>10580.220339</td>\n",
       "      <td>108089.104149</td>\n",
       "      <td>234.402766</td>\n",
       "      <td>4.240274</td>\n",
       "      <td>2.497908</td>\n",
       "    </tr>\n",
       "    <tr>\n",
       "      <th>std</th>\n",
       "      <td>9595.893841</td>\n",
       "      <td>179916.244091</td>\n",
       "      <td>515.847412</td>\n",
       "      <td>10.519383</td>\n",
       "      <td>1.714678</td>\n",
       "    </tr>\n",
       "    <tr>\n",
       "      <th>min</th>\n",
       "      <td>1939.000000</td>\n",
       "      <td>0.000080</td>\n",
       "      <td>0.008400</td>\n",
       "      <td>-11.920000</td>\n",
       "      <td>0.000000</td>\n",
       "    </tr>\n",
       "    <tr>\n",
       "      <th>25%</th>\n",
       "      <td>3390.500000</td>\n",
       "      <td>0.000854</td>\n",
       "      <td>0.104500</td>\n",
       "      <td>-6.240000</td>\n",
       "      <td>1.000000</td>\n",
       "    </tr>\n",
       "    <tr>\n",
       "      <th>50%</th>\n",
       "      <td>5868.000000</td>\n",
       "      <td>0.119000</td>\n",
       "      <td>0.762500</td>\n",
       "      <td>6.228000</td>\n",
       "      <td>2.000000</td>\n",
       "    </tr>\n",
       "    <tr>\n",
       "      <th>75%</th>\n",
       "      <td>15377.000000</td>\n",
       "      <td>198150.000000</td>\n",
       "      <td>41.250000</td>\n",
       "      <td>13.667000</td>\n",
       "      <td>4.000000</td>\n",
       "    </tr>\n",
       "    <tr>\n",
       "      <th>max</th>\n",
       "      <td>40000.000000</td>\n",
       "      <td>849420.000000</td>\n",
       "      <td>1948.500000</td>\n",
       "      <td>20.060000</td>\n",
       "      <td>5.000000</td>\n",
       "    </tr>\n",
       "  </tbody>\n",
       "</table>\n",
       "</div>"
      ],
      "text/plain": [
       "       Temperature (K)  Luminosity(L/Lo)  Radius(R/Ro)  \\\n",
       "count       236.000000        238.000000    238.000000   \n",
       "mean      10580.220339     108089.104149    234.402766   \n",
       "std        9595.893841     179916.244091    515.847412   \n",
       "min        1939.000000          0.000080      0.008400   \n",
       "25%        3390.500000          0.000854      0.104500   \n",
       "50%        5868.000000          0.119000      0.762500   \n",
       "75%       15377.000000     198150.000000     41.250000   \n",
       "max       40000.000000     849420.000000   1948.500000   \n",
       "\n",
       "       Absolute magnitude(Mv)   Star type  \n",
       "count              237.000000  239.000000  \n",
       "mean                 4.240274    2.497908  \n",
       "std                 10.519383    1.714678  \n",
       "min                -11.920000    0.000000  \n",
       "25%                 -6.240000    1.000000  \n",
       "50%                  6.228000    2.000000  \n",
       "75%                 13.667000    4.000000  \n",
       "max                 20.060000    5.000000  "
      ]
     },
     "execution_count": 5,
     "metadata": {},
     "output_type": "execute_result"
    }
   ],
   "source": [
    "df.describe()"
   ]
  },
  {
   "cell_type": "code",
   "execution_count": 6,
   "metadata": {},
   "outputs": [
    {
     "data": {
      "text/plain": [
       "Temperature (K)           4\n",
       "Luminosity(L/Lo)          2\n",
       "Radius(R/Ro)              2\n",
       "Absolute magnitude(Mv)    3\n",
       "Star type                 1\n",
       "Star color                2\n",
       "Spectral Class            1\n",
       "dtype: int64"
      ]
     },
     "execution_count": 6,
     "metadata": {},
     "output_type": "execute_result"
    }
   ],
   "source": [
    "# Cantidad de NaN por columna\n",
    "df.isna().sum()"
   ]
  },
  {
   "cell_type": "markdown",
   "metadata": {},
   "source": [
    "# 2.Limpieza del dataset"
   ]
  },
  {
   "cell_type": "code",
   "execution_count": 7,
   "metadata": {},
   "outputs": [],
   "source": [
    "# Copia de df y eliminación de filas con dato faltante\n",
    "df_cleaned = df.copy().dropna()"
   ]
  },
  {
   "cell_type": "code",
   "execution_count": 8,
   "metadata": {},
   "outputs": [
    {
     "data": {
      "text/html": [
       "<div>\n",
       "<style scoped>\n",
       "    .dataframe tbody tr th:only-of-type {\n",
       "        vertical-align: middle;\n",
       "    }\n",
       "\n",
       "    .dataframe tbody tr th {\n",
       "        vertical-align: top;\n",
       "    }\n",
       "\n",
       "    .dataframe thead th {\n",
       "        text-align: right;\n",
       "    }\n",
       "</style>\n",
       "<table border=\"1\" class=\"dataframe\">\n",
       "  <thead>\n",
       "    <tr style=\"text-align: right;\">\n",
       "      <th></th>\n",
       "      <th>Temperature (K)</th>\n",
       "      <th>Luminosity(L/Lo)</th>\n",
       "      <th>Radius(R/Ro)</th>\n",
       "      <th>Absolute magnitude(Mv)</th>\n",
       "      <th>Star type</th>\n",
       "    </tr>\n",
       "  </thead>\n",
       "  <tbody>\n",
       "    <tr>\n",
       "      <th>count</th>\n",
       "      <td>225.000000</td>\n",
       "      <td>225.000000</td>\n",
       "      <td>225.000000</td>\n",
       "      <td>225.000000</td>\n",
       "      <td>225.000000</td>\n",
       "    </tr>\n",
       "    <tr>\n",
       "      <th>mean</th>\n",
       "      <td>10679.168889</td>\n",
       "      <td>111007.626395</td>\n",
       "      <td>247.933333</td>\n",
       "      <td>3.891604</td>\n",
       "      <td>2.573333</td>\n",
       "    </tr>\n",
       "    <tr>\n",
       "      <th>std</th>\n",
       "      <td>9678.331546</td>\n",
       "      <td>178278.310371</td>\n",
       "      <td>527.423077</td>\n",
       "      <td>10.586911</td>\n",
       "      <td>1.710054</td>\n",
       "    </tr>\n",
       "    <tr>\n",
       "      <th>min</th>\n",
       "      <td>1939.000000</td>\n",
       "      <td>0.000080</td>\n",
       "      <td>0.008400</td>\n",
       "      <td>-11.920000</td>\n",
       "      <td>0.000000</td>\n",
       "    </tr>\n",
       "    <tr>\n",
       "      <th>25%</th>\n",
       "      <td>3441.000000</td>\n",
       "      <td>0.000900</td>\n",
       "      <td>0.110000</td>\n",
       "      <td>-6.270000</td>\n",
       "      <td>1.000000</td>\n",
       "    </tr>\n",
       "    <tr>\n",
       "      <th>50%</th>\n",
       "      <td>6380.000000</td>\n",
       "      <td>0.819000</td>\n",
       "      <td>0.990000</td>\n",
       "      <td>4.680000</td>\n",
       "      <td>3.000000</td>\n",
       "    </tr>\n",
       "    <tr>\n",
       "      <th>75%</th>\n",
       "      <td>15276.000000</td>\n",
       "      <td>200000.000000</td>\n",
       "      <td>57.000000</td>\n",
       "      <td>13.670000</td>\n",
       "      <td>4.000000</td>\n",
       "    </tr>\n",
       "    <tr>\n",
       "      <th>max</th>\n",
       "      <td>40000.000000</td>\n",
       "      <td>849420.000000</td>\n",
       "      <td>1948.500000</td>\n",
       "      <td>20.060000</td>\n",
       "      <td>5.000000</td>\n",
       "    </tr>\n",
       "  </tbody>\n",
       "</table>\n",
       "</div>"
      ],
      "text/plain": [
       "       Temperature (K)  Luminosity(L/Lo)  Radius(R/Ro)  \\\n",
       "count       225.000000        225.000000    225.000000   \n",
       "mean      10679.168889     111007.626395    247.933333   \n",
       "std        9678.331546     178278.310371    527.423077   \n",
       "min        1939.000000          0.000080      0.008400   \n",
       "25%        3441.000000          0.000900      0.110000   \n",
       "50%        6380.000000          0.819000      0.990000   \n",
       "75%       15276.000000     200000.000000     57.000000   \n",
       "max       40000.000000     849420.000000   1948.500000   \n",
       "\n",
       "       Absolute magnitude(Mv)   Star type  \n",
       "count              225.000000  225.000000  \n",
       "mean                 3.891604    2.573333  \n",
       "std                 10.586911    1.710054  \n",
       "min                -11.920000    0.000000  \n",
       "25%                 -6.270000    1.000000  \n",
       "50%                  4.680000    3.000000  \n",
       "75%                 13.670000    4.000000  \n",
       "max                 20.060000    5.000000  "
      ]
     },
     "execution_count": 8,
     "metadata": {},
     "output_type": "execute_result"
    }
   ],
   "source": [
    "df_cleaned.describe()"
   ]
  },
  {
   "cell_type": "markdown",
   "metadata": {},
   "source": [
    "Elegí eliminar las filas que tienen un dato faltante, en total se eliminaron 11 filas. "
   ]
  },
  {
   "cell_type": "markdown",
   "metadata": {},
   "source": [
    "# 3.Star types"
   ]
  },
  {
   "cell_type": "code",
   "execution_count": 9,
   "metadata": {},
   "outputs": [
    {
     "data": {
      "text/html": [
       "<div>\n",
       "<style scoped>\n",
       "    .dataframe tbody tr th:only-of-type {\n",
       "        vertical-align: middle;\n",
       "    }\n",
       "\n",
       "    .dataframe tbody tr th {\n",
       "        vertical-align: top;\n",
       "    }\n",
       "\n",
       "    .dataframe thead th {\n",
       "        text-align: right;\n",
       "    }\n",
       "</style>\n",
       "<table border=\"1\" class=\"dataframe\">\n",
       "  <thead>\n",
       "    <tr style=\"text-align: right;\">\n",
       "      <th></th>\n",
       "      <th>Star type</th>\n",
       "      <th>Number of stars</th>\n",
       "    </tr>\n",
       "  </thead>\n",
       "  <tbody>\n",
       "    <tr>\n",
       "      <th>0</th>\n",
       "      <td>0.0</td>\n",
       "      <td>36</td>\n",
       "    </tr>\n",
       "    <tr>\n",
       "      <th>1</th>\n",
       "      <td>1.0</td>\n",
       "      <td>35</td>\n",
       "    </tr>\n",
       "    <tr>\n",
       "      <th>2</th>\n",
       "      <td>2.0</td>\n",
       "      <td>36</td>\n",
       "    </tr>\n",
       "    <tr>\n",
       "      <th>3</th>\n",
       "      <td>3.0</td>\n",
       "      <td>39</td>\n",
       "    </tr>\n",
       "    <tr>\n",
       "      <th>4</th>\n",
       "      <td>4.0</td>\n",
       "      <td>40</td>\n",
       "    </tr>\n",
       "    <tr>\n",
       "      <th>5</th>\n",
       "      <td>5.0</td>\n",
       "      <td>39</td>\n",
       "    </tr>\n",
       "  </tbody>\n",
       "</table>\n",
       "</div>"
      ],
      "text/plain": [
       "   Star type  Number of stars\n",
       "0        0.0               36\n",
       "1        1.0               35\n",
       "2        2.0               36\n",
       "3        3.0               39\n",
       "4        4.0               40\n",
       "5        5.0               39"
      ]
     },
     "execution_count": 9,
     "metadata": {},
     "output_type": "execute_result"
    }
   ],
   "source": [
    "star_type_agrupado = df_cleaned.groupby('Star type')[['Star color']].count()\n",
    "star_type_agrupado.rename(columns={'Star color': 'Number of stars'}, inplace=True)\n",
    "star_type_agrupado.reset_index(inplace=True)\n",
    "star_type_agrupado"
   ]
  },
  {
   "cell_type": "markdown",
   "metadata": {},
   "source": [
    "### 3.1.Bar Graphic"
   ]
  },
  {
   "cell_type": "code",
   "execution_count": 10,
   "metadata": {},
   "outputs": [
    {
     "data": {
      "image/png": "[encoded data removed]",
      "text/plain": [
       "<Figure size 720x360 with 1 Axes>"
      ]
     },
     "metadata": {
      "needs_background": "light"
     },
     "output_type": "display_data"
    }
   ],
   "source": [
    "colors = ['#3B1849', '#581845', '#900C3F', '#C70039', '#FF5733', '#FFC30F']\n",
    "x = ['Brown\\nDwarf', 'Red\\nDwarf', 'White\\nDwarf', 'Main\\nSequence', 'Supergiant', 'Hypergiant']\n",
    "\n",
    "fig = plt.figure(figsize=(10, 5))\n",
    "plt.bar(x, star_type_agrupado['Number of stars'], color=colors)\n",
    "plt.title('Number of Star types', fontsize=20)\n",
    "plt.xlabel('Star types')\n",
    "plt.show()"
   ]
  },
  {
   "cell_type": "markdown",
   "metadata": {},
   "source": [
    "### 3.2.Star type and Spectral class - Grouped Bar graphic"
   ]
  },
  {
   "cell_type": "code",
   "execution_count": 11,
   "metadata": {},
   "outputs": [
    {
     "data": {
      "text/html": [
       "<div>\n",
       "<style scoped>\n",
       "    .dataframe tbody tr th:only-of-type {\n",
       "        vertical-align: middle;\n",
       "    }\n",
       "\n",
       "    .dataframe tbody tr th {\n",
       "        vertical-align: top;\n",
       "    }\n",
       "\n",
       "    .dataframe thead th {\n",
       "        text-align: right;\n",
       "    }\n",
       "</style>\n",
       "<table border=\"1\" class=\"dataframe\">\n",
       "  <thead>\n",
       "    <tr style=\"text-align: right;\">\n",
       "      <th></th>\n",
       "      <th>Spectral Class</th>\n",
       "      <th>Star type</th>\n",
       "      <th>stars</th>\n",
       "    </tr>\n",
       "  </thead>\n",
       "  <tbody>\n",
       "    <tr>\n",
       "      <th>0</th>\n",
       "      <td>A</td>\n",
       "      <td>2.0</td>\n",
       "      <td>7</td>\n",
       "    </tr>\n",
       "    <tr>\n",
       "      <th>1</th>\n",
       "      <td>A</td>\n",
       "      <td>3.0</td>\n",
       "      <td>10</td>\n",
       "    </tr>\n",
       "    <tr>\n",
       "      <th>2</th>\n",
       "      <td>A</td>\n",
       "      <td>5.0</td>\n",
       "      <td>2</td>\n",
       "    </tr>\n",
       "    <tr>\n",
       "      <th>3</th>\n",
       "      <td>B</td>\n",
       "      <td>2.0</td>\n",
       "      <td>21</td>\n",
       "    </tr>\n",
       "    <tr>\n",
       "      <th>4</th>\n",
       "      <td>B</td>\n",
       "      <td>3.0</td>\n",
       "      <td>13</td>\n",
       "    </tr>\n",
       "    <tr>\n",
       "      <th>5</th>\n",
       "      <td>B</td>\n",
       "      <td>4.0</td>\n",
       "      <td>2</td>\n",
       "    </tr>\n",
       "    <tr>\n",
       "      <th>6</th>\n",
       "      <td>B</td>\n",
       "      <td>5.0</td>\n",
       "      <td>6</td>\n",
       "    </tr>\n",
       "    <tr>\n",
       "      <th>7</th>\n",
       "      <td>F</td>\n",
       "      <td>2.0</td>\n",
       "      <td>8</td>\n",
       "    </tr>\n",
       "    <tr>\n",
       "      <th>8</th>\n",
       "      <td>F</td>\n",
       "      <td>3.0</td>\n",
       "      <td>7</td>\n",
       "    </tr>\n",
       "    <tr>\n",
       "      <th>9</th>\n",
       "      <td>G</td>\n",
       "      <td>5.0</td>\n",
       "      <td>1</td>\n",
       "    </tr>\n",
       "    <tr>\n",
       "      <th>10</th>\n",
       "      <td>K</td>\n",
       "      <td>3.0</td>\n",
       "      <td>4</td>\n",
       "    </tr>\n",
       "    <tr>\n",
       "      <th>11</th>\n",
       "      <td>K</td>\n",
       "      <td>5.0</td>\n",
       "      <td>2</td>\n",
       "    </tr>\n",
       "    <tr>\n",
       "      <th>12</th>\n",
       "      <td>M</td>\n",
       "      <td>0.0</td>\n",
       "      <td>36</td>\n",
       "    </tr>\n",
       "    <tr>\n",
       "      <th>13</th>\n",
       "      <td>M</td>\n",
       "      <td>1.0</td>\n",
       "      <td>35</td>\n",
       "    </tr>\n",
       "    <tr>\n",
       "      <th>14</th>\n",
       "      <td>M</td>\n",
       "      <td>4.0</td>\n",
       "      <td>9</td>\n",
       "    </tr>\n",
       "    <tr>\n",
       "      <th>15</th>\n",
       "      <td>M</td>\n",
       "      <td>5.0</td>\n",
       "      <td>22</td>\n",
       "    </tr>\n",
       "    <tr>\n",
       "      <th>16</th>\n",
       "      <td>O</td>\n",
       "      <td>3.0</td>\n",
       "      <td>5</td>\n",
       "    </tr>\n",
       "    <tr>\n",
       "      <th>17</th>\n",
       "      <td>O</td>\n",
       "      <td>4.0</td>\n",
       "      <td>29</td>\n",
       "    </tr>\n",
       "    <tr>\n",
       "      <th>18</th>\n",
       "      <td>O</td>\n",
       "      <td>5.0</td>\n",
       "      <td>6</td>\n",
       "    </tr>\n",
       "  </tbody>\n",
       "</table>\n",
       "</div>"
      ],
      "text/plain": [
       "   Spectral Class  Star type  stars\n",
       "0               A        2.0      7\n",
       "1               A        3.0     10\n",
       "2               A        5.0      2\n",
       "3               B        2.0     21\n",
       "4               B        3.0     13\n",
       "5               B        4.0      2\n",
       "6               B        5.0      6\n",
       "7               F        2.0      8\n",
       "8               F        3.0      7\n",
       "9               G        5.0      1\n",
       "10              K        3.0      4\n",
       "11              K        5.0      2\n",
       "12              M        0.0     36\n",
       "13              M        1.0     35\n",
       "14              M        4.0      9\n",
       "15              M        5.0     22\n",
       "16              O        3.0      5\n",
       "17              O        4.0     29\n",
       "18              O        5.0      6"
      ]
     },
     "execution_count": 11,
     "metadata": {},
     "output_type": "execute_result"
    }
   ],
   "source": [
    "star_type_spectral = df_cleaned.groupby(['Spectral Class', 'Star type'])[['Star color']].count()\n",
    "star_type_spectral.rename(columns={'Star color': 'stars'}, inplace=True)\n",
    "star_type_spectral.reset_index(inplace=True)\n",
    "star_type_spectral"
   ]
  },
  {
   "cell_type": "code",
   "execution_count": 12,
   "metadata": {},
   "outputs": [
    {
     "data": {
      "image/png": "[encoded data removed]",
      "text/plain": [
       "<Figure size 1080x720 with 1 Axes>"
      ]
     },
     "metadata": {
      "needs_background": "light"
     },
     "output_type": "display_data"
    }
   ],
   "source": [
    "palette = sns.color_palette(\"hls\", 7)\n",
    "fig = plt.figure(figsize=(15, 10))\n",
    "\n",
    "ax = sns.barplot(data=star_type_spectral, x='Star type', y='stars', hue='Spectral Class', palette=palette)\n",
    "ax.set_xticklabels(x)\n",
    "plt.show()"
   ]
  },
  {
   "cell_type": "markdown",
   "metadata": {},
   "source": [
    "# 4.Temperature"
   ]
  },
  {
   "cell_type": "code",
   "execution_count": 13,
   "metadata": {},
   "outputs": [
    {
     "data": {
      "text/plain": [
       "count      225.000000\n",
       "mean     10679.168889\n",
       "std       9678.331546\n",
       "min       1939.000000\n",
       "25%       3441.000000\n",
       "50%       6380.000000\n",
       "75%      15276.000000\n",
       "max      40000.000000\n",
       "Name: Temperature (K), dtype: float64"
      ]
     },
     "execution_count": 13,
     "metadata": {},
     "output_type": "execute_result"
    }
   ],
   "source": [
    "df_cleaned['Temperature (K)'].describe()"
   ]
  },
  {
   "cell_type": "markdown",
   "metadata": {},
   "source": [
    "### 4.1.Quartiles"
   ]
  },
  {
   "cell_type": "code",
   "execution_count": 14,
   "metadata": {},
   "outputs": [
    {
     "name": "stdout",
     "output_type": "stream",
     "text": [
      "Q1 = 3441.0\n",
      "Q2 = 6380.0\n",
      "Q3 = 15276.0\n",
      "Q4 = 40000.0\n"
     ]
    }
   ],
   "source": [
    "# Cálculo de cuartiles con interpolación midpoint\n",
    "\n",
    "q1 = df_cleaned['Temperature (K)'].quantile(0.25, interpolation='midpoint')\n",
    "q2 = df_cleaned['Temperature (K)'].quantile(0.5, interpolation='midpoint')\n",
    "q3 = df_cleaned['Temperature (K)'].quantile(0.75, interpolation='midpoint')\n",
    "q4 = df_cleaned['Temperature (K)'].quantile(1, interpolation='midpoint')\n",
    "\n",
    "print(f'Q1 = {q1}\\nQ2 = {q2}\\nQ3 = {q3}\\nQ4 = {q4}')"
   ]
  },
  {
   "cell_type": "code",
   "execution_count": 15,
   "metadata": {},
   "outputs": [
    {
     "name": "stdout",
     "output_type": "stream",
     "text": [
      "11835.0\n"
     ]
    }
   ],
   "source": [
    "# Interquartile range \n",
    "int_range = q3 - q1\n",
    "print(int_range)"
   ]
  },
  {
   "cell_type": "code",
   "execution_count": 16,
   "metadata": {},
   "outputs": [
    {
     "name": "stdout",
     "output_type": "stream",
     "text": [
      "8896.0\n",
      "2939.0\n"
     ]
    },
    {
     "data": {
      "text/plain": [
       "True"
      ]
     },
     "execution_count": 16,
     "metadata": {},
     "output_type": "execute_result"
    }
   ],
   "source": [
    "print(q3 - q2)\n",
    "print(q2 - q1)\n",
    "q3 - q2 > q2 - q1 # positive skewed"
   ]
  },
  {
   "cell_type": "markdown",
   "metadata": {},
   "source": [
    "### 4.2.Outliers"
   ]
  },
  {
   "cell_type": "code",
   "execution_count": 17,
   "metadata": {},
   "outputs": [
    {
     "name": "stdout",
     "output_type": "stream",
     "text": [
      "27111.0\n",
      "3441.0\n"
     ]
    }
   ],
   "source": [
    "# Calcular el límite inferior y superior \n",
    "\n",
    "lim_sup = float(q3 + 1*int_range)\n",
    "lim_inf = float(q3 - 1*int_range)\n",
    "print(lim_sup)\n",
    "print(lim_inf)"
   ]
  },
  {
   "cell_type": "code",
   "execution_count": 18,
   "metadata": {},
   "outputs": [
    {
     "data": {
      "text/plain": [
       "225"
      ]
     },
     "execution_count": 18,
     "metadata": {},
     "output_type": "execute_result"
    }
   ],
   "source": [
    "# cantidad de outliers\n",
    "\n",
    "df_cleaned['Temperature (K)'][(df_cleaned['Temperature (K)']> lim_sup) | df_cleaned['Temperature (K)'] < lim_inf].count()"
   ]
  },
  {
   "cell_type": "markdown",
   "metadata": {},
   "source": [
    "### 4.3.Boxplot"
   ]
  },
  {
   "cell_type": "code",
   "execution_count": 19,
   "metadata": {},
   "outputs": [
    {
     "data": {
      "image/png": "[encoded data removed]",
      "text/plain": [
       "<Figure size 1080x360 with 1 Axes>"
      ]
     },
     "metadata": {
      "needs_background": "light"
     },
     "output_type": "display_data"
    }
   ],
   "source": [
    "color = '#BD87BB'\n",
    "\n",
    "fig = plt.figure(figsize=(15, 5)) \n",
    "sns.boxplot(data=df_cleaned, x='Temperature (K)', whis=1, color=color) \n",
    "plt.title('Absolute Temperature (K)',  fontsize=20) \n",
    "plt.show()"
   ]
  },
  {
   "cell_type": "markdown",
   "metadata": {},
   "source": [
    "### 4.4.Histograma"
   ]
  },
  {
   "cell_type": "code",
   "execution_count": 20,
   "metadata": {},
   "outputs": [
    {
     "data": {
      "image/png": "[encoded data removed]",
      "text/plain": [
       "<Figure size 720x720 with 1 Axes>"
      ]
     },
     "metadata": {
      "needs_background": "light"
     },
     "output_type": "display_data"
    }
   ],
   "source": [
    "color = '#b82a48'\n",
    "bins = [q1, q2, q3, 20000, 30000, q4]\n",
    "\n",
    "fig = plt.figure(figsize=(10, 10)) \n",
    "sns.histplot(data=df_cleaned, x='Temperature (K)', bins=bins,stat='frequency', color=color)\n",
    "plt.title('Absolute Temperature in K', fontsize=20)\n",
    "plt.ylabel('Frequency density')\n",
    "plt.show()"
   ]
  },
  {
   "cell_type": "markdown",
   "metadata": {},
   "source": [
    "**Teniendo en cuenta los gráficos se puede visualizar que la distribución no es simétrica, los datos se encuentran sesgados a la derecha.**"
   ]
  },
  {
   "cell_type": "markdown",
   "metadata": {},
   "source": [
    "# 5. Relación entre variables"
   ]
  },
  {
   "cell_type": "markdown",
   "metadata": {},
   "source": [
    "### 5.1.Luminosity vs Absolute magnitude"
   ]
  },
  {
   "cell_type": "code",
   "execution_count": 21,
   "metadata": {},
   "outputs": [
    {
     "data": {
      "image/png": "[encoded data removed]",
      "text/plain": [
       "<Figure size 720x720 with 1 Axes>"
      ]
     },
     "metadata": {
      "needs_background": "light"
     },
     "output_type": "display_data"
    }
   ],
   "source": [
    "color = '#721646'\n",
    "\n",
    "fig = plt.figure(figsize=(10, 10))\n",
    "sns.scatterplot(data=df_cleaned, x='Luminosity(L/Lo)', y='Absolute magnitude(Mv)', color=color)\n",
    "plt.title('Luminosity vs Absolute magnitude')\n",
    "plt.xlabel('Luminosity(L/Lo)')\n",
    "plt.ylabel('Absolute magnitude(Mv)')\n",
    "plt.grid()\n",
    "plt.show()"
   ]
  }
 ],
 "metadata": {
  "colab": {
   "name": "Clase3Ejercicios.ipynb",
   "provenance": []
  },
  "kernelspec": {
   "display_name": "Python 3 (ipykernel)",
   "language": "python",
   "name": "python3"
  },
  "language_info": {
   "codemirror_mode": {
    "name": "ipython",
    "version": 3
   },
   "file_extension": ".py",
   "mimetype": "text/x-python",
   "name": "python",
   "nbconvert_exporter": "python",
   "pygments_lexer": "ipython3",
   "version": "3.9.13"
  }
 },
 "nbformat": 4,
 "nbformat_minor": 1
}
